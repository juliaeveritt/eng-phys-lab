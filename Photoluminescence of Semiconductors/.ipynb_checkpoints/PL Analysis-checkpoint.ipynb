{
 "cells": [
  {
   "cell_type": "code",
   "execution_count": 1,
   "id": "dd910148",
   "metadata": {},
   "outputs": [],
   "source": [
    "import pandas as pd\n",
    "import numpy as np\n",
    "import matplotlib.pyplot as plt\n",
    "import scipy.constants as const\n",
    "from scipy import stats\n",
    "\n",
    "fileT = 'Gaussian_Decomp_Results/Temp-Dependence-Study.csv'"
   ]
  },
  {
   "cell_type": "code",
   "execution_count": 2,
   "id": "7a180143",
   "metadata": {},
   "outputs": [],
   "source": [
    "h = const.h\n",
    "c = const.c\n",
    "e = const.e"
   ]
  },
  {
   "cell_type": "code",
   "execution_count": 3,
   "id": "9b9dd839",
   "metadata": {},
   "outputs": [],
   "source": [
    "plt.rcParams['font.family']=\"Calibri\"\n",
    "plt.rcParams[\"font.size\"]=12"
   ]
  },
  {
   "cell_type": "markdown",
   "id": "0f451280",
   "metadata": {},
   "source": [
    "## Power Dependence Analysis"
   ]
  },
  {
   "cell_type": "code",
   "execution_count": 4,
   "id": "b1d12533",
   "metadata": {},
   "outputs": [
    {
     "data": {
      "text/html": [
       "<div>\n",
       "<style scoped>\n",
       "    .dataframe tbody tr th:only-of-type {\n",
       "        vertical-align: middle;\n",
       "    }\n",
       "\n",
       "    .dataframe tbody tr th {\n",
       "        vertical-align: top;\n",
       "    }\n",
       "\n",
       "    .dataframe thead th {\n",
       "        text-align: right;\n",
       "    }\n",
       "</style>\n",
       "<table border=\"1\" class=\"dataframe\">\n",
       "  <thead>\n",
       "    <tr style=\"text-align: right;\">\n",
       "      <th></th>\n",
       "      <th>Filter</th>\n",
       "      <th>Amplitude_0</th>\n",
       "      <th>A0_err</th>\n",
       "      <th>Amplitude_1</th>\n",
       "      <th>A1_err</th>\n",
       "    </tr>\n",
       "  </thead>\n",
       "  <tbody>\n",
       "    <tr>\n",
       "      <th>0</th>\n",
       "      <td>0.3</td>\n",
       "      <td>23708.500000</td>\n",
       "      <td>391.882195</td>\n",
       "      <td>7019.85000</td>\n",
       "      <td>116.511527</td>\n",
       "    </tr>\n",
       "    <tr>\n",
       "      <th>1</th>\n",
       "      <td>0.6</td>\n",
       "      <td>6625.747487</td>\n",
       "      <td>178.635356</td>\n",
       "      <td>1928.34924</td>\n",
       "      <td>47.878054</td>\n",
       "    </tr>\n",
       "  </tbody>\n",
       "</table>\n",
       "</div>"
      ],
      "text/plain": [
       "   Filter   Amplitude_0      A0_err  Amplitude_1      A1_err\n",
       "0     0.3  23708.500000  391.882195   7019.85000  116.511527\n",
       "1     0.6   6625.747487  178.635356   1928.34924   47.878054"
      ]
     },
     "execution_count": 4,
     "metadata": {},
     "output_type": "execute_result"
    }
   ],
   "source": [
    "fileP = 'Gaussian_Decomp_Results/Power-Dependence-Study.csv'\n",
    "df = pd.read_csv(fileP)\n",
    "df.head()"
   ]
  },
  {
   "cell_type": "code",
   "execution_count": 5,
   "id": "cd5f7bfb",
   "metadata": {},
   "outputs": [
    {
     "name": "stdout",
     "output_type": "stream",
     "text": [
      "m0 = 1.8455639906288506 +/- -0.12591636256680294\n",
      "m1 = 1.870473804068121 +/- -0.11994042809438477\n"
     ]
    },
    {
     "data": {
      "image/png": "[encoded data removed]",
      "text/plain": [
       "<Figure size 432x288 with 1 Axes>"
      ]
     },
     "metadata": {
      "needs_background": "light"
     },
     "output_type": "display_data"
    }
   ],
   "source": [
    "# Determine laser intensity through each filter\n",
    "# using P = I_0 * 10**-(ND) and plot against\n",
    "# amplitude on logarithmic scale\n",
    "\n",
    "I_0 = 3.49E-3 # 5mW laser\n",
    "dI_0 = 0.05E-3  # Uncertainty on laser power\n",
    "powers = I_0 * 10**-(df['Filter'])  # Laser power [mW]\n",
    "dpowers = dI_0 * 10 ** -(df['Filter'])  # propagates uncertainty on laser power\n",
    "\n",
    "x = np.log(powers).to_numpy()\n",
    "dx = (dpowers / powers).to_numpy()\n",
    "\n",
    "y0 = np.log(df['Amplitude_0']).to_numpy()\n",
    "dy0 = (df['A0_err'] / df['Amplitude_0']).to_numpy()\n",
    "\n",
    "y1 = np.log(df['Amplitude_1']).to_numpy()\n",
    "dy1 = (df['A1_err'] / df['Amplitude_1']).to_numpy()\n",
    "\n",
    "# Fit linear regression via least squares\n",
    "m0, b0, r, p, dm0 = stats.linregress(x, y0)\n",
    "m1, b1, r, p, dm1 = stats.linregress(x, y1)\n",
    "xseq = np.linspace(-7.5, -6, num=100)\n",
    "\n",
    "# Calculate uncertainty on slope\n",
    "m0_max = ((y0[-1] + dy0[-1]) - (y0[0] - dy0[0])) / (x[-1] - x[0])\n",
    "m0_min = ((y0[-1] - dy0[-1]) - (y0[0] + dy0[0])) / (x[-1] - x[0])\n",
    "\n",
    "m1_max = ((y1[-1] + dy1[-1]) - (y1[0] - dy1[0])) / (x[-1] - x[0])\n",
    "m1_min = ((y1[-1] - dy1[-1]) - (y1[0] + dy1[0])) / (x[-1] - x[0])\n",
    "\n",
    "# Plot\n",
    "fig = plt.figure()\n",
    "ax = fig.add_subplot()\n",
    "ax.errorbar(x, y1, xerr=dx, yerr=dy1, fmt='.', label=\"2.32 eV\", color=\"blue\")\n",
    "ax.errorbar(x, y0, xerr=dx, yerr=dy0, fmt='.', label=\"2.27 eV\", color=\"orange\")\n",
    "ax.plot(xseq, b0 + m0 * xseq, color=\"orange\", lw=1.5)\n",
    "ax.plot(xseq, b1 + m1 * xseq, color=\"blue\", lw=1.5)\n",
    "\n",
    "ax.set_xlabel('log(Laser Power)')\n",
    "ax.set_ylabel('log(Intensity)')\n",
    "ax.legend(loc=2)\n",
    "\n",
    "# Print slopes\n",
    "print(f\"m0 = {m0} +/- {m0_max - m0_min}\")\n",
    "print(f\"m1 = {m1} +/- {m1_max - m1_min}\")"
   ]
  },
  {
   "cell_type": "markdown",
   "id": "85f75fe8",
   "metadata": {},
   "source": [
    "## Temperature Dependence Analysis"
   ]
  },
  {
   "cell_type": "code",
   "execution_count": 6,
   "id": "a05c66fb",
   "metadata": {},
   "outputs": [
    {
     "data": {
      "text/html": [
       "<div>\n",
       "<style scoped>\n",
       "    .dataframe tbody tr th:only-of-type {\n",
       "        vertical-align: middle;\n",
       "    }\n",
       "\n",
       "    .dataframe tbody tr th {\n",
       "        vertical-align: top;\n",
       "    }\n",
       "\n",
       "    .dataframe thead th {\n",
       "        text-align: right;\n",
       "    }\n",
       "</style>\n",
       "<table border=\"1\" class=\"dataframe\">\n",
       "  <thead>\n",
       "    <tr style=\"text-align: right;\">\n",
       "      <th></th>\n",
       "      <th>Temp [K]</th>\n",
       "      <th>Filter</th>\n",
       "      <th>FWHM_0</th>\n",
       "      <th>FWHM_0 err</th>\n",
       "      <th>FWHM_1</th>\n",
       "      <th>FWHM_1 err</th>\n",
       "      <th>Mean_0</th>\n",
       "      <th>Mean_0 err</th>\n",
       "      <th>Mean_1</th>\n",
       "      <th>Mean_1 err</th>\n",
       "      <th>Amp_0</th>\n",
       "      <th>A0_err</th>\n",
       "      <th>Amp_1</th>\n",
       "      <th>A1_err</th>\n",
       "      <th>Alpha</th>\n",
       "      <th>SNR</th>\n",
       "    </tr>\n",
       "  </thead>\n",
       "  <tbody>\n",
       "    <tr>\n",
       "      <th>0</th>\n",
       "      <td>90</td>\n",
       "      <td>0.3</td>\n",
       "      <td>6.399823e-09</td>\n",
       "      <td>9.307782e-11</td>\n",
       "      <td>2.629369e-08</td>\n",
       "      <td>2.251154e-10</td>\n",
       "      <td>5.337804e-07</td>\n",
       "      <td>4.161781e-11</td>\n",
       "      <td>5.450068e-07</td>\n",
       "      <td>1.545929e-10</td>\n",
       "      <td>23707.71719</td>\n",
       "      <td>391.970929</td>\n",
       "      <td>7021.581220</td>\n",
       "      <td>116.543473</td>\n",
       "      <td>0.06</td>\n",
       "      <td>3.0</td>\n",
       "    </tr>\n",
       "    <tr>\n",
       "      <th>1</th>\n",
       "      <td>100</td>\n",
       "      <td>0.3</td>\n",
       "      <td>6.020000e-09</td>\n",
       "      <td>7.000000e-11</td>\n",
       "      <td>1.898000e-08</td>\n",
       "      <td>2.100000e-10</td>\n",
       "      <td>5.317900e-07</td>\n",
       "      <td>3.000000e-11</td>\n",
       "      <td>5.382500e-07</td>\n",
       "      <td>1.200000e-10</td>\n",
       "      <td>43943.70708</td>\n",
       "      <td>490.354702</td>\n",
       "      <td>13497.663490</td>\n",
       "      <td>229.971221</td>\n",
       "      <td>2.00</td>\n",
       "      <td>2.3</td>\n",
       "    </tr>\n",
       "    <tr>\n",
       "      <th>2</th>\n",
       "      <td>120</td>\n",
       "      <td>0.3</td>\n",
       "      <td>7.158989e-09</td>\n",
       "      <td>7.967863e-11</td>\n",
       "      <td>2.276893e-08</td>\n",
       "      <td>2.390820e-10</td>\n",
       "      <td>5.304552e-07</td>\n",
       "      <td>3.245620e-11</td>\n",
       "      <td>5.355617e-07</td>\n",
       "      <td>1.193964e-10</td>\n",
       "      <td>37951.99616</td>\n",
       "      <td>430.957691</td>\n",
       "      <td>9766.591749</td>\n",
       "      <td>208.509243</td>\n",
       "      <td>1.40</td>\n",
       "      <td>4.0</td>\n",
       "    </tr>\n",
       "    <tr>\n",
       "      <th>3</th>\n",
       "      <td>140</td>\n",
       "      <td>0.3</td>\n",
       "      <td>9.260000e-09</td>\n",
       "      <td>1.070973e-10</td>\n",
       "      <td>3.008520e-08</td>\n",
       "      <td>3.552061e-10</td>\n",
       "      <td>5.296100e-07</td>\n",
       "      <td>4.305769e-11</td>\n",
       "      <td>5.339900e-07</td>\n",
       "      <td>1.634698e-10</td>\n",
       "      <td>34994.69955</td>\n",
       "      <td>428.359614</td>\n",
       "      <td>6294.900836</td>\n",
       "      <td>191.789168</td>\n",
       "      <td>3.00</td>\n",
       "      <td>2.0</td>\n",
       "    </tr>\n",
       "    <tr>\n",
       "      <th>4</th>\n",
       "      <td>160</td>\n",
       "      <td>0.3</td>\n",
       "      <td>1.020577e-08</td>\n",
       "      <td>2.731250e-10</td>\n",
       "      <td>3.540000e-08</td>\n",
       "      <td>1.070296e-09</td>\n",
       "      <td>5.283857e-07</td>\n",
       "      <td>8.957576e-11</td>\n",
       "      <td>5.305087e-07</td>\n",
       "      <td>3.289123e-10</td>\n",
       "      <td>11386.52472</td>\n",
       "      <td>301.150452</td>\n",
       "      <td>2946.105500</td>\n",
       "      <td>231.794884</td>\n",
       "      <td>2.10</td>\n",
       "      <td>1.5</td>\n",
       "    </tr>\n",
       "  </tbody>\n",
       "</table>\n",
       "</div>"
      ],
      "text/plain": [
       "   Temp [K]  Filter        FWHM_0    FWHM_0 err        FWHM_1    FWHM_1 err  \\\n",
       "0        90     0.3  6.399823e-09  9.307782e-11  2.629369e-08  2.251154e-10   \n",
       "1       100     0.3  6.020000e-09  7.000000e-11  1.898000e-08  2.100000e-10   \n",
       "2       120     0.3  7.158989e-09  7.967863e-11  2.276893e-08  2.390820e-10   \n",
       "3       140     0.3  9.260000e-09  1.070973e-10  3.008520e-08  3.552061e-10   \n",
       "4       160     0.3  1.020577e-08  2.731250e-10  3.540000e-08  1.070296e-09   \n",
       "\n",
       "         Mean_0    Mean_0 err        Mean_1    Mean_1 err        Amp_0  \\\n",
       "0  5.337804e-07  4.161781e-11  5.450068e-07  1.545929e-10  23707.71719   \n",
       "1  5.317900e-07  3.000000e-11  5.382500e-07  1.200000e-10  43943.70708   \n",
       "2  5.304552e-07  3.245620e-11  5.355617e-07  1.193964e-10  37951.99616   \n",
       "3  5.296100e-07  4.305769e-11  5.339900e-07  1.634698e-10  34994.69955   \n",
       "4  5.283857e-07  8.957576e-11  5.305087e-07  3.289123e-10  11386.52472   \n",
       "\n",
       "       A0_err         Amp_1      A1_err  Alpha  SNR  \n",
       "0  391.970929   7021.581220  116.543473   0.06  3.0  \n",
       "1  490.354702  13497.663490  229.971221   2.00  2.3  \n",
       "2  430.957691   9766.591749  208.509243   1.40  4.0  \n",
       "3  428.359614   6294.900836  191.789168   3.00  2.0  \n",
       "4  301.150452   2946.105500  231.794884   2.10  1.5  "
      ]
     },
     "execution_count": 6,
     "metadata": {},
     "output_type": "execute_result"
    }
   ],
   "source": [
    "df = pd.read_csv(fileT)\n",
    "df['Mean_0'] = df['Mean_0'] * 1E-9  # convert to m\n",
    "df['Mean_1'] = df['Mean_1'] * 1E-9 \n",
    "df['Mean_0 err'] = df['Mean_0 err'] * 1E-9 \n",
    "df['Mean_1 err'] = df['Mean_1 err'] * 1E-9 \n",
    "df['FWHM_0'] = df['FWHM_0'] * 1E-9\n",
    "df['FWHM_1'] = df['FWHM_1'] * 1E-9\n",
    "df['FWHM_0 err'] = df['FWHM_0 err'] * 1E-9\n",
    "df['FWHM_1 err'] = df['FWHM_1 err'] * 1E-9\n",
    "dT = 0.00005  # Uncertainty on T measurement\n",
    "m_T = 0.05081  # Rate of increase in temperature (K/s)\n",
    "\n",
    "int_times = np.array([0.05, 0.35, 0.7, 0.9, 1.2, 0.9])\n",
    "dT = int_times * m_T\n",
    "\n",
    "df.head()"
   ]
  },
  {
   "cell_type": "markdown",
   "id": "593d65ee",
   "metadata": {},
   "source": [
    "### Plot mean peak position as function of temp for the two gaussians. Expect positive linear relationship (blueshift)"
   ]
  },
  {
   "cell_type": "code",
   "execution_count": 7,
   "id": "d5bf9d0f",
   "metadata": {},
   "outputs": [
    {
     "data": {
      "text/plain": [
       "<matplotlib.legend.Legend at 0x1db071b1630>"
      ]
     },
     "execution_count": 7,
     "metadata": {},
     "output_type": "execute_result"
    },
    {
     "data": {
      "image/png": "[encoded data removed]",
      "text/plain": [
       "<Figure size 432x288 with 1 Axes>"
      ]
     },
     "metadata": {
      "needs_background": "light"
     },
     "output_type": "display_data"
    }
   ],
   "source": [
    "fig = plt.figure()\n",
    "ax = fig.add_subplot()\n",
    "\n",
    "df['E_0'] = h * c / df['Mean_0'] / e  # Energy in eV E = hc/lda\n",
    "df['E_1'] = h * c / df['Mean_1'] / e\n",
    "\n",
    "df['dE_0'] = df['E_0'] ** -2 * h * c * df['Mean_0 err'] / e\n",
    "df['dE_1'] = df['E_1'] ** -2 * h * c * df['Mean_1 err'] / e\n",
    "\n",
    "m0, b0 = np.polyfit(df['Temp [K]'], df['E_0'], deg=1)\n",
    "m1, b1 = np.polyfit(df['Temp [K]'], df['E_1'], deg=1)\n",
    "xseq = np.linspace(90, 180, num=100)\n",
    "\n",
    "ax.errorbar(df['Temp [K]'], df['E_0'], yerr=df['dE_0'], xerr=dT, fmt='.', label=\"2.32 eV\", color=\"blue\")\n",
    "ax.errorbar(df['Temp [K]'], df['E_1'], yerr=df['dE_1'], xerr=dT, fmt='.', label=\"2.27 eV\", color=\"orange\")\n",
    "ax.plot(xseq, b0 + m0 * xseq, color=\"blue\", lw=1.5)\n",
    "ax.plot(xseq, b1 + m1 * xseq, color=\"orange\", lw=1.5)\n",
    "\n",
    "ax.set_xlabel('Temperature [K]')\n",
    "ax.set_ylabel('Peak position [eV]')\n",
    "#ax.set_title(\"Peak Position vs T for $CsPbBr_3$ Sample YW1149\")\n",
    "ax.legend()"
   ]
  },
  {
   "cell_type": "markdown",
   "id": "a7c91d9b",
   "metadata": {},
   "source": [
    " ### Plot FWHM as function of temp and fit using Toyozawa's equation"
   ]
  },
  {
   "cell_type": "code",
   "execution_count": 8,
   "id": "edf9d8a6",
   "metadata": {},
   "outputs": [],
   "source": [
    "# Get the linewidth in terms of energy\n",
    "df['lw_0'] = (h * c / (df['Mean_0'] - df['FWHM_0'] / 2) - h * c / (df['Mean_0'] + df['FWHM_0'] / 2)) # Energy in J E = hc / lda\n",
    "df['lw_1'] = (h * c / (df['Mean_1'] - df['FWHM_1'] / 2) - h * c / (df['Mean_1'] + df['FWHM_1'] / 2))\n",
    "\n",
    "df['d_lw0'] = (h * c * df['FWHM_0 err'] / 2)*(1 / (df['Mean_0'] - df['FWHM_0'] / 2) ** 4 + 1 / (df['Mean_0'] + df['FWHM_0'] / 2) ** 4)  # Propagate FWHM error to energy bandwidth\n",
    "df['d_lw1'] = (h * c * df['FWHM_1 err'] / 2)*(1 / (df['Mean_1'] - df['FWHM_1'] / 2) ** 4 + 1 / (df['Mean_1'] + df['FWHM_1'] / 2) ** 4)"
   ]
  },
  {
   "cell_type": "markdown",
   "id": "f4f34d93",
   "metadata": {},
   "source": [
    "We aim to fit the FWHM vs Temp data using $\\omega(T) = \\frac{A}{exp(E_p/K_BT)-1}+C$ to determine $E_p$, the energy of the phonon."
   ]
  },
  {
   "cell_type": "code",
   "execution_count": 15,
   "id": "808ee67c",
   "metadata": {},
   "outputs": [
    {
     "name": "stdout",
     "output_type": "stream",
     "text": [
      "E_ph for the 2.32 eV peak: 0.036254087595684485\n"
     ]
    },
    {
     "data": {
      "image/png": "[encoded data removed]",
      "text/plain": [
       "<Figure size 432x288 with 1 Axes>"
      ]
     },
     "metadata": {
      "needs_background": "light"
     },
     "output_type": "display_data"
    }
   ],
   "source": [
    "from scipy.optimize import curve_fit\n",
    "\n",
    "K_B = 8.617*10**(-5) # in eV/K\n",
    "def Toyozawa(T,A,E_p,C):\n",
    "    exp = np.exp(E_p/(K_B*T))\n",
    "    omega = (A/(exp-1))+C\n",
    "    return omega\n",
    "\n",
    "# Fit for first peak\n",
    "guess = [20, 0.015,0.02]\n",
    "parameters, covariance = curve_fit(Toyozawa, df['Temp [K]'], df['lw_0'], p0=guess)\n",
    "fit_A0 = parameters[0]\n",
    "fit_Ep0 = parameters[1]\n",
    "fit_C0 = parameters[2]\n",
    "\n",
    "fitPeak0 = Toyozawa(df['Temp [K]'], fit_A0, fit_Ep0,fit_C0)\n",
    "\n",
    "plt.plot(df['Temp [K]'], df['lw_0'], 'o', label='data')\n",
    "plt.plot(df['Temp [K]'], fitPeak0, '-', label='fit')\n",
    "plt.title(\"2.32 eV FHWM vs T for CsPbBr_3\")\n",
    "plt.xlabel(\"Temp [K]\")\n",
    "plt.ylabel(\"FWHM\")\n",
    "\n",
    "print(f\"E_ph for the 2.32 eV peak: {fit_Ep0}\")"
   ]
  },
  {
   "cell_type": "code",
   "execution_count": 16,
   "id": "91c8b6a1",
   "metadata": {},
   "outputs": [
    {
     "name": "stdout",
     "output_type": "stream",
     "text": [
      "E_ph for the 2.27 eV peak: 0.035642543969982635\n"
     ]
    },
    {
     "data": {
      "image/png": "[encoded data removed]",
      "text/plain": [
       "<Figure size 432x288 with 1 Axes>"
      ]
     },
     "metadata": {
      "needs_background": "light"
     },
     "output_type": "display_data"
    }
   ],
   "source": [
    "# Fit second (2.27 eV) peak\n",
    "guess = [20, 0.015,0.02]\n",
    "parameters, covariance = curve_fit(Toyozawa, df['Temp [K]'], df['lw_1'], p0=guess)\n",
    "fit_A1 = parameters[0]\n",
    "fit_Ep1 = parameters[1]\n",
    "fit_C1 = parameters[2]\n",
    "\n",
    "fitPeak1 = Toyozawa(df['Temp [K]'], fit_A1, fit_Ep1,fit_C1)\n",
    "\n",
    "plt.plot(df['Temp [K]'], df['lw_1'], 'o', label='data')\n",
    "plt.plot(df['Temp [K]'], fitPeak1, '-', label='fit')\n",
    "plt.title(\"2.27 eV FHWM vs T for CsPbBr_3\")\n",
    "plt.xlabel(\"Temp [K]\")\n",
    "plt.ylabel(\"FWHM\")\n",
    "\n",
    "print(f\"E_ph for the 2.27 eV peak: {fit_Ep1}\")"
   ]
  },
  {
   "cell_type": "code",
   "execution_count": 17,
   "id": "2f36b498",
   "metadata": {},
   "outputs": [
    {
     "data": {
      "text/plain": [
       "<matplotlib.legend.Legend at 0x1db074ba9e8>"
      ]
     },
     "execution_count": 17,
     "metadata": {},
     "output_type": "execute_result"
    },
    {
     "data": {
      "image/png": "[encoded data removed]",
      "text/plain": [
       "<Figure size 432x288 with 1 Axes>"
      ]
     },
     "metadata": {
      "needs_background": "light"
     },
     "output_type": "display_data"
    }
   ],
   "source": [
    "# Plot the fits\n",
    "fig = plt.figure()\n",
    "ax = fig.add_subplot()\n",
    "\n",
    "ax.errorbar(df['Temp [K]'], df['lw_0'] / e, xerr=dT, yerr=df['d_lw0'], fmt='.', label=\"2.32 eV\", color='blue')\n",
    "ax.errorbar(df['Temp [K]'], df['lw_1'] / e, xerr=dT, yerr=df['d_lw1'], fmt='.', label=\"2.27 eV\", color='orange')\n",
    "\n",
    "ax.plot(df['Temp [K]'], fitPeak0/e, '-', color='blue')\n",
    "ax.plot(df['Temp [K]'], fitPeak1/e, '-', color='orange')\n",
    "\n",
    "ax.set_xlabel('Temperature [K]')\n",
    "ax.set_ylabel('FWHM [eV]')\n",
    "#ax.set_title(\"FWHM vs T for CsPbBr_3 Sample YW1127\")\n",
    "ax.legend()"
   ]
  },
  {
   "cell_type": "markdown",
   "id": "d02610e2",
   "metadata": {},
   "source": [
    "### Plot intensity vs inverse temperature and fit using Thermal Quenching Equation"
   ]
  },
  {
   "cell_type": "markdown",
   "id": "2a983b2d",
   "metadata": {},
   "source": [
    "Here, we aim to fit intensity vs temperature data with the simplified Thermal-Quenching Equation, $ I(T) = \\frac{I_0}{1+C_1*exp(-E1/K_BT)} $ to determine E1, the exciton energy"
   ]
  },
  {
   "cell_type": "code",
   "execution_count": 19,
   "id": "553fad59",
   "metadata": {},
   "outputs": [
    {
     "name": "stdout",
     "output_type": "stream",
     "text": [
      "E_1 for the 2.32 eV peak: 0.21491933545705694\n"
     ]
    },
    {
     "data": {
      "text/plain": [
       "Text(0, 0.5, 'Intensity')"
      ]
     },
     "execution_count": 19,
     "metadata": {},
     "output_type": "execute_result"
    },
    {
     "data": {
      "image/png": "[encoded data removed]",
      "text/plain": [
       "<Figure size 432x288 with 1 Axes>"
      ]
     },
     "metadata": {
      "needs_background": "light"
     },
     "output_type": "display_data"
    }
   ],
   "source": [
    "def thermal_quenching(T,E1,C1,I_0):\n",
    "    return I_0/(1+C1*np.exp(-E1/(K_B*T)))\n",
    "\n",
    "guess = [0.00002, 10000,300]\n",
    "parameters, covar = curve_fit(thermal_quenching, df['Temp [K]'], df['Amp_0'], p0=guess)\n",
    "fit_E1 = parameters[0]\n",
    "fit_C = parameters[1]\n",
    "fit_I0 = parameters[2]\n",
    "print(f\"E_1 for the 2.32 eV peak: {fit_E1}\")\n",
    "\n",
    "fitTQ0 = thermal_quenching(df['Temp [K]'], fit_E1, fit_C,fit_I0)\n",
    "\n",
    "plt.plot(1/df['Temp [K]'], df['Amp_0'], 'o', label='data')\n",
    "plt.plot(1/df['Temp [K]'], fitTQ0, '-', label='fit')\n",
    "#plt.title(\"Intensity vs 1/T for CsPbBr_3\")\n",
    "plt.xlabel(\"1/Temp [1/K]\")\n",
    "plt.ylabel(\"Intensity\")"
   ]
  },
  {
   "cell_type": "code",
   "execution_count": 20,
   "id": "50065da4",
   "metadata": {},
   "outputs": [
    {
     "name": "stdout",
     "output_type": "stream",
     "text": [
      "E_1 for the 2.32 eV peak: 0.13480724028060853\n"
     ]
    },
    {
     "data": {
      "text/plain": [
       "Text(0, 0.5, 'Intensity')"
      ]
     },
     "execution_count": 20,
     "metadata": {},
     "output_type": "execute_result"
    },
    {
     "data": {
      "image/png": "[encoded data removed]",
      "text/plain": [
       "<Figure size 432x288 with 1 Axes>"
      ]
     },
     "metadata": {
      "needs_background": "light"
     },
     "output_type": "display_data"
    }
   ],
   "source": [
    "# Fit for second peak\n",
    "guess = [0.0002, 10000,300]\n",
    "parameters, covar = curve_fit(thermal_quenching, df['Temp [K]'], df['Amp_1'], p0=guess)\n",
    "fit_E1 = parameters[0]\n",
    "fit_C = parameters[1]\n",
    "fit_I0 = parameters[2]\n",
    "print(f\"E_1 for the 2.32 eV peak: {fit_E1}\")\n",
    "\n",
    "fitTQ1 = thermal_quenching(df['Temp [K]'], fit_E1, fit_C,fit_I0)\n",
    "\n",
    "plt.plot(1/df['Temp [K]'], df['Amp_1'], 'o', label='data')\n",
    "plt.plot(1/df['Temp [K]'], fitTQ1, '-', label='fit')\n",
    "#plt.title(\"Intensity vs 1/T for CsPbBr_3\")\n",
    "plt.xlabel(\"1/Temp [1/K]\")\n",
    "plt.ylabel(\"Intensity\")"
   ]
  },
  {
   "cell_type": "code",
   "execution_count": 24,
   "id": "e005da99",
   "metadata": {},
   "outputs": [
    {
     "data": {
      "text/plain": [
       "<matplotlib.legend.Legend at 0x1db071f5ac8>"
      ]
     },
     "execution_count": 24,
     "metadata": {},
     "output_type": "execute_result"
    },
    {
     "data": {
      "image/png": "[encoded data removed]",
      "text/plain": [
       "<Figure size 432x288 with 1 Axes>"
      ]
     },
     "metadata": {
      "needs_background": "light"
     },
     "output_type": "display_data"
    }
   ],
   "source": [
    "# Plot intensity vs 1/T for the two peaks\n",
    "fig = plt.figure()\n",
    "ax = fig.add_subplot()\n",
    "\n",
    "#dTinv = dT/T**2\n",
    "dTinv = 0\n",
    "\n",
    "ax.errorbar(1/df['Temp [K]'], df['Amp_0'], xerr=dTinv, yerr=df['A0_err'], fmt='.', label=\"2.32 eV\", color='blue')\n",
    "ax.errorbar(1/df['Temp [K]'], df['Amp_1'], xerr=dTinv, yerr=df['A1_err'], fmt='.', label=\"2.27 eV\", color='orange')\n",
    "\n",
    "ax.plot(1/df['Temp [K]'], fitTQ0, '-',color='blue')\n",
    "ax.plot(1/df['Temp [K]'], fitTQ1, '-',color='orange')\n",
    "ax.set_xlabel(\"1/Temp [1/K]\")\n",
    "ax.set_ylabel(\"Intensity\")\n",
    "ax.legend(loc=\"upper left\")"
   ]
  },
  {
   "cell_type": "code",
   "execution_count": null,
   "id": "da499bb9",
   "metadata": {},
   "outputs": [],
   "source": []
  }
 ],
 "metadata": {
  "kernelspec": {
   "display_name": "Python 3 (ipykernel)",
   "language": "python",
   "name": "python3"
  },
  "language_info": {
   "codemirror_mode": {
    "name": "ipython",
    "version": 3
   },
   "file_extension": ".py",
   "mimetype": "text/x-python",
   "name": "python",
   "nbconvert_exporter": "python",
   "pygments_lexer": "ipython3",
   "version": "3.9.16"
  }
 },
 "nbformat": 4,
 "nbformat_minor": 5
}
