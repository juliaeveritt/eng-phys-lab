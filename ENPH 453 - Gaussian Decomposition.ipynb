{
 "cells": [
  {
   "cell_type": "markdown",
   "id": "bc41c7f6",
   "metadata": {},
   "source": [
    "# Gaussian decomposition"
   ]
  },
  {
   "cell_type": "markdown",
   "id": "6fd9641c",
   "metadata": {},
   "source": [
    "The following is an implementation of GaussPy gaussian decomposition using experimental data from ENPH 453 lab on photoluminescence. The tutorial here was used as a starting point: https://gausspy.readthedocs.io/en/latest/tutorial.html#multiple-gaussians-tutorial"
   ]
  },
  {
   "cell_type": "markdown",
   "id": "20b0e7dc",
   "metadata": {},
   "source": [
    "## Data preparation"
   ]
  },
  {
   "cell_type": "code",
   "execution_count": 50,
   "id": "5369d99e",
   "metadata": {},
   "outputs": [],
   "source": [
    "# Import experimental data and store in .pkl format,\n",
    "# required for GaussPy. This serializes the data for \n",
    "# efficient saving/loading\n",
    "\n",
    "import numpy as np\n",
    "import pickle \n",
    "import pandas as pd\n",
    "\n",
    "\n",
    "# Specify filename of output data\n",
    "OUTPUT_FILENAME = 'filter03_temp90.pkl'\n",
    "INPUT_FILENAME = 'Group25_Jan31_00_filter03_int005_temp90.csv'\n",
    "\n",
    "# Read and trim csv data\n",
    "input_csv = open(INPUT_FILENAME)\n",
    "data_all = np.loadtxt(input_csv,delimiter=\",\")\n",
    "data_list_raw = data_all[20:,1]\n",
    "x_val_raw = data_all[20:,0]\n",
    "data_list_raw = np.subtract(data_list_raw,np.average(data_list_raw[0:50])) # centre at y=0\n",
    "input_csv.close()\n",
    "error = np.ones(len(x_val_raw))*5 # error estimate\n",
    "\n",
    "# Store in list\n",
    "data = {}\n",
    "data['data_list'] = [data_list_raw]\n",
    "data['x_values'] = [x_val_raw]\n",
    "data['errors'] = [error]\n",
    "\n",
    "# Dump data to output file\n",
    "pickle.dump(data, open(OUTPUT_FILENAME, 'wb'))"
   ]
  },
  {
   "cell_type": "markdown",
   "id": "628b51fa",
   "metadata": {},
   "source": [
    "## Decompose data"
   ]
  },
  {
   "cell_type": "code",
   "execution_count": 51,
   "id": "6d11ac05",
   "metadata": {},
   "outputs": [
    {
     "name": "stdout",
     "output_type": "stream",
     "text": [
      "using 6 out of 8 cpus\n",
      "   ---->   0\n"
     ]
    },
    {
     "name": "stderr",
     "output_type": "stream",
     "text": [
      "0.00it [00:00, ?it/s]\n",
      "0it [00:00, ?it/s]"
     ]
    },
    {
     "name": "stdout",
     "output_type": "stream",
     "text": [
      "SUCCESS\n",
      "100 finished.%\n"
     ]
    },
    {
     "name": "stderr",
     "output_type": "stream",
     "text": [
      "\n"
     ]
    }
   ],
   "source": [
    "# Decompose multiple Gaussian dataset using AGD\n",
    "import gausspy.gp as gp\n",
    "\n",
    "# Specify necessary parameters\n",
    "alpha1 = 0.06 \n",
    "snr_thresh = 3\n",
    "FILENAME_DATA = OUTPUT_FILENAME\n",
    "FILENAME_DATA_DECOMP = 'filter03_temp90_decomp.pkl'\n",
    "\n",
    "# Load GaussPy\n",
    "g = gp.GaussianDecomposer()\n",
    "\n",
    "# Set AGD parameters\n",
    "g.set('phase', 'one')\n",
    "g.set('SNR_thresh', [snr_thresh, snr_thresh])\n",
    "g.set('alpha1', alpha1)\n",
    "\n",
    "# Run GaussPy\n",
    "data_decomp = g.batch_decomposition(FILENAME_DATA)\n",
    "\n",
    "# Save decomposition information\n",
    "pickle.dump(data_decomp, open(FILENAME_DATA_DECOMP, 'wb'))"
   ]
  },
  {
   "cell_type": "markdown",
   "id": "d7516cd4",
   "metadata": {},
   "source": [
    "## Plot results"
   ]
  },
  {
   "cell_type": "code",
   "execution_count": 56,
   "id": "684f613d",
   "metadata": {},
   "outputs": [
    {
     "name": "stdout",
     "output_type": "stream",
     "text": [
      "{'index_fit': [[0, 0]], 'amplitudes_fit': [[22708.324773890912, 9877.79581134566]], 'fwhms_fit': [[5.23607588797319, 21.862957617829085]], 'means_fit': [[533.4267545136868, 541.4393595912627]], 'index_initial': [[0, 0]], 'amplitudes_initial': [array([26706.22613579, 11045.41863655])], 'fwhms_initial': [array([ 6.58410975, 12.23035144])], 'means_initial': [array([533.4425, 541.6315])], 'amplitudes_fit_err': [[118.12177769378603, 60.598173129972054]], 'fwhms_fit_err': [[0.03409083343331455, 0.134122368460276]], 'means_fit_err': [[0.011747492594574761, 0.08107356265011699]], 'best_fit_rchi2': [[2800.0949976215056]], 'amplitudes_fit_em': [], 'fwhms_fit_em': [], 'means_fit_em': [], 'means_fit_err_em': [], 'amplitudes_fit_err_em': [], 'fwhms_fit_err_em': [], 'fit_labels': []}\n"
     ]
    },
    {
     "data": {
      "image/png": "[encoded data removed]",
      "text/plain": [
       "<Figure size 432x288 with 1 Axes>"
      ]
     },
     "metadata": {
      "needs_background": "light"
     },
     "output_type": "display_data"
    }
   ],
   "source": [
    "# Plot GaussPy results\n",
    "import matplotlib.pyplot as plt\n",
    "\n",
    "def gaussian(amp, fwhm, mean):\n",
    "    return lambda x: amp * np.exp(-4. * np.log(2) * (x-mean)**2 / fwhm**2)\n",
    "\n",
    "def unravel(list):\n",
    "    return np.array([i for array in list for i in array])\n",
    "\n",
    "data = pickle.load(open(FILENAME_DATA, 'rb'))\n",
    "spectrum = unravel(data['data_list'])\n",
    "chan = unravel(data['x_values'])\n",
    "errors = unravel(data['errors'])\n",
    "\n",
    "data_decomp = pickle.load(open(FILENAME_DATA_DECOMP, 'rb'))\n",
    "means_fit = unravel(data_decomp['means_fit'])\n",
    "amps_fit = unravel(data_decomp['amplitudes_fit'])\n",
    "fwhms_fit = unravel(data_decomp['fwhms_fit'])\n",
    "\n",
    "print(data_decomp)\n",
    "\n",
    "fig = plt.figure()\n",
    "ax = fig.add_subplot(111)\n",
    "\n",
    "model = np.zeros(len(chan))\n",
    "\n",
    "for j in range(len(means_fit)):\n",
    "    component = gaussian(amps_fit[j], fwhms_fit[j], means_fit[j])(chan)\n",
    "    model += component\n",
    "    ax.plot(chan, component, color='red', lw=1.5) # Individual gaussians\n",
    "\n",
    "ax.plot(chan, spectrum, label='Data', color='black', linewidth=1.5) # Original Data\n",
    "ax.plot(chan, model, label = r'$\\log\\alpha=1.$', color='purple', linewidth=2.) # Net gaussian\n",
    "ax.plot(chan, errors, label = 'Errors', color='green', linestyle='dashed', linewidth=2.) # err\n",
    "\n",
    "ax.set_xlabel('Channels')\n",
    "ax.set_ylabel('Amplitude')\n",
    "ax.set_title(FILENAME_DATA.rstrip(\".pkl\"))\n",
    "\n",
    "\n",
    "ax.set_xlim(400,800)\n",
    "ax.set_ylim(np.min(spectrum),np.max(spectrum))\n",
    "ax.legend(loc=4)\n",
    "\n",
    "plt.show()"
   ]
  },
  {
   "cell_type": "code",
   "execution_count": null,
   "id": "00e5fd10",
   "metadata": {},
   "outputs": [],
   "source": []
  }
 ],
 "metadata": {
  "kernelspec": {
   "display_name": "Python 3",
   "language": "python",
   "name": "python3"
  },
  "language_info": {
   "codemirror_mode": {
    "name": "ipython",
    "version": 3
   },
   "file_extension": ".py",
   "mimetype": "text/x-python",
   "name": "python",
   "nbconvert_exporter": "python",
   "pygments_lexer": "ipython3",
   "version": "3.6.13"
  }
 },
 "nbformat": 4,
 "nbformat_minor": 5
}
