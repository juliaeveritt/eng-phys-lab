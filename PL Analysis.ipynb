{
 "cells": [
  {
   "cell_type": "markdown",
   "id": "85f75fe8",
   "metadata": {},
   "source": [
    "## Temperature Dependence Analysis"
   ]
  },
  {
   "cell_type": "code",
   "execution_count": 42,
   "id": "dd910148",
   "metadata": {},
   "outputs": [],
   "source": [
    "import pandas as pd\n",
    "import numpy as np\n",
    "import matplotlib.pyplot as plt\n",
    "\n",
    "fileT = 'Temp-Dependence-Study.csv'"
   ]
  },
  {
   "cell_type": "code",
   "execution_count": 43,
   "id": "a05c66fb",
   "metadata": {},
   "outputs": [
    {
     "data": {
      "text/html": [
       "<div>\n",
       "<style scoped>\n",
       "    .dataframe tbody tr th:only-of-type {\n",
       "        vertical-align: middle;\n",
       "    }\n",
       "\n",
       "    .dataframe tbody tr th {\n",
       "        vertical-align: top;\n",
       "    }\n",
       "\n",
       "    .dataframe thead th {\n",
       "        text-align: right;\n",
       "    }\n",
       "</style>\n",
       "<table border=\"1\" class=\"dataframe\">\n",
       "  <thead>\n",
       "    <tr style=\"text-align: right;\">\n",
       "      <th></th>\n",
       "      <th>Temp [K]</th>\n",
       "      <th>Filter</th>\n",
       "      <th>FWHM_0</th>\n",
       "      <th>FWHM_1</th>\n",
       "      <th>Mean_0</th>\n",
       "      <th>Mean_1</th>\n",
       "      <th>Alpha</th>\n",
       "      <th>SNR</th>\n",
       "    </tr>\n",
       "  </thead>\n",
       "  <tbody>\n",
       "    <tr>\n",
       "      <th>0</th>\n",
       "      <td>90</td>\n",
       "      <td>0.3</td>\n",
       "      <td>5.24</td>\n",
       "      <td>21.86</td>\n",
       "      <td>533.40</td>\n",
       "      <td>541.4</td>\n",
       "      <td>0.06</td>\n",
       "      <td>3.0</td>\n",
       "    </tr>\n",
       "    <tr>\n",
       "      <th>1</th>\n",
       "      <td>100</td>\n",
       "      <td>0.3</td>\n",
       "      <td>5.90</td>\n",
       "      <td>21.20</td>\n",
       "      <td>531.80</td>\n",
       "      <td>538.3</td>\n",
       "      <td>1.50</td>\n",
       "      <td>2.3</td>\n",
       "    </tr>\n",
       "    <tr>\n",
       "      <th>2</th>\n",
       "      <td>120</td>\n",
       "      <td>0.3</td>\n",
       "      <td>6.80</td>\n",
       "      <td>23.40</td>\n",
       "      <td>530.46</td>\n",
       "      <td>535.2</td>\n",
       "      <td>1.40</td>\n",
       "      <td>4.0</td>\n",
       "    </tr>\n",
       "    <tr>\n",
       "      <th>3</th>\n",
       "      <td>140</td>\n",
       "      <td>0.3</td>\n",
       "      <td>8.06</td>\n",
       "      <td>24.62</td>\n",
       "      <td>529.47</td>\n",
       "      <td>532.6</td>\n",
       "      <td>3.00</td>\n",
       "      <td>2.0</td>\n",
       "    </tr>\n",
       "    <tr>\n",
       "      <th>4</th>\n",
       "      <td>160</td>\n",
       "      <td>0.3</td>\n",
       "      <td>10.20</td>\n",
       "      <td>35.40</td>\n",
       "      <td>528.50</td>\n",
       "      <td>531.3</td>\n",
       "      <td>2.10</td>\n",
       "      <td>1.5</td>\n",
       "    </tr>\n",
       "  </tbody>\n",
       "</table>\n",
       "</div>"
      ],
      "text/plain": [
       "   Temp [K]  Filter  FWHM_0  FWHM_1  Mean_0  Mean_1  Alpha  SNR\n",
       "0        90     0.3    5.24   21.86  533.40   541.4   0.06  3.0\n",
       "1       100     0.3    5.90   21.20  531.80   538.3   1.50  2.3\n",
       "2       120     0.3    6.80   23.40  530.46   535.2   1.40  4.0\n",
       "3       140     0.3    8.06   24.62  529.47   532.6   3.00  2.0\n",
       "4       160     0.3   10.20   35.40  528.50   531.3   2.10  1.5"
      ]
     },
     "execution_count": 43,
     "metadata": {},
     "output_type": "execute_result"
    }
   ],
   "source": [
    "df = pd.read_csv(fileT)\n",
    "df.head()"
   ]
  },
  {
   "cell_type": "code",
   "execution_count": 98,
   "id": "d5bf9d0f",
   "metadata": {},
   "outputs": [
    {
     "data": {
      "text/plain": [
       "<matplotlib.legend.Legend at 0x1a351855e80>"
      ]
     },
     "execution_count": 98,
     "metadata": {},
     "output_type": "execute_result"
    },
    {
     "data": {
      "image/png": "[encoded data removed]",
      "text/plain": [
       "<Figure size 432x288 with 1 Axes>"
      ]
     },
     "metadata": {
      "needs_background": "light"
     },
     "output_type": "display_data"
    }
   ],
   "source": [
    "# Plot mean peak position as function of temp\n",
    "# for the two gaussians. Expect linear relationship\n",
    "fig = plt.figure()\n",
    "ax = fig.add_subplot()\n",
    "\n",
    "m0, b0 = np.polyfit(df['Temp [K]'],df['Mean_0'], deg=1)\n",
    "m1,b1 = np.polyfit(df['Temp [K]'],df['Mean_1'],deg=1)\n",
    "xseq = np.linspace(90, 180, num=100)\n",
    "\n",
    "ax.scatter(df['Temp [K]'],df['Mean_0'],label=\"Peak 1\")\n",
    "ax.scatter(df['Temp [K]'],df['Mean_1'],label=\"Peak 2\")\n",
    "#ax.plot(xseq, b0 + m0 * xseq, color=\"blue\", lw=1.5,label=m1)\n",
    "#ax.plot(xseq, b1 + m1 * xseq, color=\"orange\", lw=1.5,label=m2)\n",
    "\n",
    "ax.set_xlabel('Temperature [K]')\n",
    "ax.set_ylabel('Mean Peak Position')\n",
    "ax.set_title(\"Peak Position vs T for CsPbBr_3 Sample x\")\n",
    "ax.legend(loc=2)"
   ]
  },
  {
   "cell_type": "code",
   "execution_count": 97,
   "id": "edf9d8a6",
   "metadata": {},
   "outputs": [
    {
     "data": {
      "text/plain": [
       "<matplotlib.legend.Legend at 0x1a3517bd630>"
      ]
     },
     "execution_count": 97,
     "metadata": {},
     "output_type": "execute_result"
    },
    {
     "data": {
      "image/png": "[encoded data removed]",
      "text/plain": [
       "<Figure size 432x288 with 1 Axes>"
      ]
     },
     "metadata": {
      "needs_background": "light"
     },
     "output_type": "display_data"
    }
   ],
   "source": [
    "# Plot FWHM as function of temp\n",
    "# Plot mean peak position as function of temp\n",
    "# for the two gaussians. Expect linear relationship\n",
    "fig = plt.figure()\n",
    "ax = fig.add_subplot()\n",
    "\n",
    "ax.scatter(df['Temp [K]'][:5],df['FWHM_0'][:5],label=\"Peak 1\")\n",
    "ax.scatter(df['Temp [K]'][:5],df['FWHM_1'][:5],label=\"Peak 2\")\n",
    "\n",
    "\n",
    "ax.set_xlabel('Temperature [K]')\n",
    "ax.set_ylabel('FWHM')\n",
    "ax.set_title(\"FWHM vs T for CsPbBr_3 Sample x\")\n",
    "ax.legend(loc=2)"
   ]
  },
  {
   "cell_type": "markdown",
   "id": "f4f34d93",
   "metadata": {},
   "source": [
    "We aim to fit the data above using $\\omega(T) = \\frac{A}{exp(E_p/K_BT)-1}+C$ to determine $E_p$, the energy of the phonon."
   ]
  },
  {
   "cell_type": "code",
   "execution_count": 100,
   "id": "808ee67c",
   "metadata": {},
   "outputs": [
    {
     "name": "stdout",
     "output_type": "stream",
     "text": [
      "[114.053   0.251   4.961]\n"
     ]
    },
    {
     "data": {
      "text/plain": [
       "Text(0, 0.5, 'FWHM')"
      ]
     },
     "execution_count": 100,
     "metadata": {},
     "output_type": "execute_result"
    },
    {
     "data": {
      "image/png": "[encoded data removed]",
      "text/plain": [
       "<Figure size 432x288 with 1 Axes>"
      ]
     },
     "metadata": {
      "needs_background": "light"
     },
     "output_type": "display_data"
    }
   ],
   "source": [
    "from scipy.optimize import curve_fit\n",
    "\n",
    "# TODO - convert to eV and rescale\n",
    "# Issue with overflow using K_B true values\n",
    "#K_B = 1.38*6.23*10**(-10) # in eV/K\n",
    "K=0.0005\n",
    "def Toyozawa(T,A,E_p,C):\n",
    "    exp = np.exp(E_p/(K*T))\n",
    "    omega = (A/(exp-1))+C\n",
    "    return omega\n",
    "\n",
    "guess = [0.2, 0.015,0.02]\n",
    "parameters, covariance = curve_fit(Toyozawa, df['Temp [K]'][:5], df['FWHM_0'][:5], p0=guess)\n",
    "fit_A = parameters[0]\n",
    "fit_Ep = parameters[1]\n",
    "fit_C = parameters[2]\n",
    "print(parameters)\n",
    "\n",
    "fit = Toyozawa(df['Temp [K]'][:5], fit_A, fit_Ep,fit_C)\n",
    "\n",
    "plt.plot(df['Temp [K]'][:5], df['FWHM_0'][:5], 'o', label='data')\n",
    "plt.plot(df['Temp [K]'][:5], fit, '-', label='fit')\n",
    "plt.title(\"Peak FHWM vs T for CsPbBr_3\")\n",
    "plt.xlabel(\"Temp [K]\")\n",
    "plt.ylabel(\"FWHM\")"
   ]
  },
  {
   "cell_type": "markdown",
   "id": "2a983b2d",
   "metadata": {},
   "source": [
    "TODO - Add thermal quenching model analysis"
   ]
  },
  {
   "cell_type": "code",
   "execution_count": 101,
   "id": "553fad59",
   "metadata": {},
   "outputs": [],
   "source": [
    "def thermal_quenching(T,E1,E2,C1,C2,I_0):\n",
    "    return I_0/(1+C1*np.exp(-E1/(K*T))+C2*np.exp(-E2/(K*T)))"
   ]
  },
  {
   "cell_type": "markdown",
   "id": "0f451280",
   "metadata": {},
   "source": [
    "## Power Dependence Analysis"
   ]
  },
  {
   "cell_type": "code",
   "execution_count": 15,
   "id": "b1d12533",
   "metadata": {},
   "outputs": [
    {
     "data": {
      "text/html": [
       "<div>\n",
       "<style scoped>\n",
       "    .dataframe tbody tr th:only-of-type {\n",
       "        vertical-align: middle;\n",
       "    }\n",
       "\n",
       "    .dataframe tbody tr th {\n",
       "        vertical-align: top;\n",
       "    }\n",
       "\n",
       "    .dataframe thead th {\n",
       "        text-align: right;\n",
       "    }\n",
       "</style>\n",
       "<table border=\"1\" class=\"dataframe\">\n",
       "  <thead>\n",
       "    <tr style=\"text-align: right;\">\n",
       "      <th></th>\n",
       "      <th>Filter</th>\n",
       "      <th>Amplitude_0</th>\n",
       "      <th>Amplitude_1</th>\n",
       "    </tr>\n",
       "  </thead>\n",
       "  <tbody>\n",
       "    <tr>\n",
       "      <th>0</th>\n",
       "      <td>0.3</td>\n",
       "      <td>22708.5</td>\n",
       "      <td>9877.3</td>\n",
       "    </tr>\n",
       "    <tr>\n",
       "      <th>1</th>\n",
       "      <td>0.6</td>\n",
       "      <td>6448.4</td>\n",
       "      <td>2560.9</td>\n",
       "    </tr>\n",
       "    <tr>\n",
       "      <th>2</th>\n",
       "      <td>0.9</td>\n",
       "      <td>1050.0</td>\n",
       "      <td>550.0</td>\n",
       "    </tr>\n",
       "    <tr>\n",
       "      <th>3</th>\n",
       "      <td>1.2</td>\n",
       "      <td>320.0</td>\n",
       "      <td>180.0</td>\n",
       "    </tr>\n",
       "  </tbody>\n",
       "</table>\n",
       "</div>"
      ],
      "text/plain": [
       "   Filter  Amplitude_0  Amplitude_1\n",
       "0     0.3      22708.5       9877.3\n",
       "1     0.6       6448.4       2560.9\n",
       "2     0.9       1050.0        550.0\n",
       "3     1.2        320.0        180.0"
      ]
     },
     "execution_count": 15,
     "metadata": {},
     "output_type": "execute_result"
    }
   ],
   "source": [
    "fileP = 'Power-Dependence-Study.csv'\n",
    "df = pd.read_csv(fileP)\n",
    "df.head()"
   ]
  },
  {
   "cell_type": "code",
   "execution_count": 36,
   "id": "cd5f7bfb",
   "metadata": {},
   "outputs": [
    {
     "name": "stdout",
     "output_type": "stream",
     "text": [
      "Slope (alpha) for Peak 1: 2.11\n",
      "Slope (alpha) for Peak 2: 1.96\n"
     ]
    },
    {
     "data": {
      "image/png": "[encoded data removed]",
      "text/plain": [
       "<Figure size 432x288 with 1 Axes>"
      ]
     },
     "metadata": {
      "needs_background": "light"
     },
     "output_type": "display_data"
    }
   ],
   "source": [
    "# Determine laser intensity through each filter\n",
    "# using P = I_0 * 10**-(ND) and plot against\n",
    "# amplitude on logarithmic scale\n",
    "\n",
    "I_0 = 1 # check in lab\n",
    "powers = I_0 * 10**-(df['Filter'])\n",
    "\n",
    "# Fit linear regression via least squares\n",
    "m0, b0 = np.polyfit(np.log(powers),np.log(df['Amplitude_0']), deg=1)\n",
    "m1,b1 = np.polyfit(np.log(powers),np.log(df['Amplitude_1']),deg=1)\n",
    "xseq = np.linspace(-3, 0, num=100)\n",
    "\n",
    "fig = plt.figure()\n",
    "ax = fig.add_subplot()\n",
    "ax.scatter(np.log(powers),np.log(df['Amplitude_0']),label=\"Peak 1\",color=\"blue\")\n",
    "ax.scatter(np.log(powers),np.log(df['Amplitude_1']),label=\"Peak 2\",color=\"orange\")\n",
    "ax.plot(xseq, b0 + m0 * xseq, color=\"blue\", lw=1.5)\n",
    "ax.plot(xseq, b1 + m1 * xseq, color=\"orange\", lw=1.5)\n",
    "\n",
    "ax.set_xlabel('log(Laser Power)')\n",
    "ax.set_ylabel('log(Intensity)')\n",
    "ax.legend(loc=2)\n",
    "\n",
    "print(\"Slope (alpha) for Peak 1:\",np.around(m0,2))\n",
    "print(\"Slope (alpha) for Peak 2:\",np.around(m1,2))"
   ]
  },
  {
   "cell_type": "code",
   "execution_count": null,
   "id": "50065da4",
   "metadata": {},
   "outputs": [],
   "source": []
  }
 ],
 "metadata": {
  "kernelspec": {
   "display_name": "Python 3",
   "language": "python",
   "name": "python3"
  },
  "language_info": {
   "codemirror_mode": {
    "name": "ipython",
    "version": 3
   },
   "file_extension": ".py",
   "mimetype": "text/x-python",
   "name": "python",
   "nbconvert_exporter": "python",
   "pygments_lexer": "ipython3",
   "version": "3.6.13"
  }
 },
 "nbformat": 4,
 "nbformat_minor": 5
}
